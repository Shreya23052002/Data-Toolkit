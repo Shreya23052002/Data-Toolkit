{
  "nbformat": 4,
  "nbformat_minor": 0,
  "metadata": {
    "colab": {
      "provenance": []
    },
    "kernelspec": {
      "name": "python3",
      "display_name": "Python 3"
    },
    "language_info": {
      "name": "python"
    }
  },
  "cells": [
    {
      "cell_type": "markdown",
      "source": [
        "**Theory Question**"
      ],
      "metadata": {
        "id": "ysPvUoR7TeDg"
      }
    },
    {
      "cell_type": "code",
      "source": [
        "#1. What is NumPy, and why is it widely used in Python?\n",
        "\n",
        "NumPy (short for Numerical Python) is a powerful open-source library in Python used for numerical computations. It provides:\n",
        "\n",
        "Multidimensional arrays (ndarray) — much faster and more efficient than Python lists.\n",
        "Mathematical functions — for operations on arrays (like sum, mean, standard deviation).\n",
        "Linear algebra tools — for matrix operations, eigenvalues, etc.\n",
        "Random number generation — for simulations, machine learning, and testing.\n",
        "\n",
        "Speed & Performance:\n",
        "NumPy’s arrays are stored more efficiently and allow vectorized operations, meaning you can perform calculations on entire arrays without writing\n",
        "loops.\n",
        "Mathematical Power:\n",
        "You can do complex mathematical and statistical operations easily with built-in functions.\n",
        "Foundation for Other Libraries:\n",
        "Libraries like Pandas, Scikit-learn, TensorFlow, and Matplotlib are built on top of NumPy, or heavily rely on it.\n",
        "Memory Efficiency:\n",
        "NumPy arrays consume less memory and process data faster than standard Python lists.\n",
        "Community & Ecosystem:\n",
        "It’s well-documented, battle-tested, and widely used in academia, data science, machine learning, and scientific computing.\n",
        "\n"
      ],
      "metadata": {
        "id": "VQzQjLTmTkcs"
      },
      "execution_count": null,
      "outputs": []
    },
    {
      "cell_type": "code",
      "source": [
        "#2. How does broadcasting work in NumPy?\n",
        "\n",
        "Broadcasting in NumPy refers to the ability of performing operations on arrays with different shapes by automatically expanding the smaller array's\n",
        "shape to match the larger array's shape. This is useful when performing arithmetic operations or applying functions to arrays of different dimensions.\n",
        "\n",
        "When performing arithmetic operations, NumPy operates on corresponding elements of the arrays. If the arrays have the same shape, operations are are\n",
        "smoothly performed. However, if the arrays have different shapes, NumPy uses broadcasting to align them, allowing element-wise operations to be\n",
        "conducted easily.\n",
        "Rules of Broadcasting\n",
        "-If arrays have a different number of dimensions, the shape of the smaller-dimensional array is padded with ones on the left side until both shapes\n",
        " have the same length.\n",
        "-The size of each dimension must either be the same or one of them must be one.\n",
        "-Broadcasting is applied from the last dimension to the first dimension."
      ],
      "metadata": {
        "id": "mKha_EYNdC7B"
      },
      "execution_count": null,
      "outputs": []
    },
    {
      "cell_type": "code",
      "source": [
        "#3. What is a Pandas DataFrame?\n",
        "\n",
        "Pandas DataFrame is a way to represent and work with tabular data. It can be seen as a table that organizes data into rows and columns, making it a\n",
        "two-dimensional data structure. A DataFrame can be created from scratch, or you can use other data structures, like NumPy arrays.\n",
        "When you use pandas DataFrame, you can import data in various formats and from various sources. You can, for example, import NumPy arrays, alongside\n",
        "being able to import pandas content.\n",
        "\n",
        "Here are the main types of inputs accepted by a DataFrame:\n",
        "\n",
        "-Dict of 1D ndarrays, lists, dicts or Series\n",
        "-2-D numpy.ndarray\n",
        "-Structured or record ndarray\n",
        "-A Series\n",
        "-Another DataFrame"
      ],
      "metadata": {
        "id": "VOMk9lzneH_e"
      },
      "execution_count": null,
      "outputs": []
    },
    {
      "cell_type": "code",
      "source": [
        "#4. Explain the use of the groupby() method in Pandas?\n",
        "\n",
        "Pandas groupby splits all the records from your data set into different categories or groups so that you can analyze the data by these groups. When\n",
        "you use the .groupby() function on any categorical column of DataFrame, it returns a GroupBy object, which you can use other methods on to group the\n",
        "data.\n",
        "In the real world, you’ll usually work with large amounts of data and need to do similar operations over different groups of data. Pandas groupby()\n",
        "is handy in all those scenarios and gives you insights within a few seconds, making it extremely efficient and a must know function in data analysis."
      ],
      "metadata": {
        "id": "QQcvsZJcfBib"
      },
      "execution_count": null,
      "outputs": []
    },
    {
      "cell_type": "code",
      "source": [
        "#5. Why is Seaborn preferred for statistical visualizations?\n",
        "\n",
        "Seaborn is often preferred for statistical visualizations in Python because it makes complex plots easy and beautiful, especially when working with\n",
        "data analysis and statistics.\n",
        "\n",
        "Why Seaborn Stands Out\n",
        "-High-level Interface: Seaborn is built on top of Matplotlib, but it simplifies the syntax. You can create complex plots (like violin plots, boxplots,\n",
        " pair plots) with just one line of code.\n",
        "\n",
        "-Statistical Plotting Built-In: Seaborn directly integrates with Pandas DataFrames and is designed for statistical exploration:\n",
        "sns.relplot() for relationships.\n",
        "sns.displot() for distributions.\n",
        "sns.regplot() for regression and trend lines.\n",
        "sns.catplot() for categorical comparisons.\n",
        "\n",
        "-Beautiful Default Styles: Without much tweaking, Seaborn produces clean, publication-quality visuals with:\n",
        "Smooth color palettes.\n",
        "Clear axis labels.\n",
        "Logical legends.\n",
        "Less need for manual formatting.\n",
        "\n",
        "-Automatic Aggregation & Estimation\n",
        "1. When you pass raw data, Seaborn can: Automatically compute means, medians, confidence intervals.\n",
        "2. Plot them directly (especially useful in sns.barplot() or sns.pointplot()).\n",
        "\n",
        "-Built-in Support for Complex Relationships\n",
        "For example:\n",
        "sns.pairplot() to visualize pairwise relationships.\n",
        "sns.heatmap() for matrix-like data (e.g., correlation matrices).\n",
        "sns.jointplot() combines scatter + distribution plots for two variables.\n",
        "\n",
        "-Integration with Pandas\n",
        "You don’t need to reshape or pre-process your data heavily. Seaborn works smoothly with Pandas DataFrames — making exploratory data analysis (EDA)\n",
        "faster and cleaner."
      ],
      "metadata": {
        "id": "j4xt6j9fg0p_"
      },
      "execution_count": null,
      "outputs": []
    },
    {
      "cell_type": "code",
      "source": [
        "#6. What are the differences between NumPy arrays and Python lists?\n",
        "\n",
        "Python Lists\n",
        "-General-purpose container in Python.\n",
        "-Can hold different types of data in the same list (e.g., numbers, strings, objects).\n",
        "-Lists are flexible — you can easily add, remove, or modify items.\n",
        "-Supports basic operations like iteration, slicing, appending, sorting, etc.\n",
        "-No built-in mathematical operations — if you write list1 + list2, it will just join the two lists, not add the numbers inside.\n",
        "-Lists are stored in scattered memory locations, which makes them slower for numerical calculations.\n",
        "-Commonly used when you want a collection of different things or small datasets.\n",
        "\n",
        "NumPy Arrays\n",
        "-Provided by the NumPy library (you have to install it: pip install numpy).\n",
        "-Arrays are specialized containers for numerical data — usually all elements must be the same data type.\n",
        "-Supports vectorized operations: you can add, subtract, multiply arrays directly without writing loops.\n",
        "-Memory is managed more efficiently and the operations are much faster than with lists.\n",
        "-Supports multidimensional data naturally — 1D, 2D, 3D and beyond (good for matrices, images, large datasets).\n",
        "-Has many built-in mathematical functions like mean(), sum(), sqrt(), and linear algebra operations.\n",
        "-Mostly used in data analysis, machine learning, image processing, and scientific computing."
      ],
      "metadata": {
        "id": "JavjaXS1daTg"
      },
      "execution_count": null,
      "outputs": []
    },
    {
      "cell_type": "code",
      "source": [
        "#7. What is a heatmap, and when should it be used?\n",
        "\n",
        "A heatmap is a data visualization technique that uses color to represent the magnitude of values across a two-dimensional space. It's essentially\n",
        "a table or grid where each cell's color corresponds to a specific value, allowing for a quick visual overview of data patterns. Heatmaps are useful\n",
        "for analyzing website user behavior, visualizing complex data sets, and identifying trends or correlations.\n",
        "\n",
        "When to Use Heatmaps:\n",
        "\n",
        "Website User Behavior: Heatmaps can track where users click, scroll, or spend their attention on a website, helping to identify areas for optimization\n",
        "and improve user experience.\n",
        "Data Visualization: They are valuable for visualizing large and complex datasets, like those found in science or business analytics, making it easier\n",
        "to spot patterns and relationships.\n",
        "Business Analytics: Heatmaps can be used to analyze sales data, customer demographics, website traffic, and other business metrics to identify key\n",
        "trends and insights.\n",
        "Correlation Analysis: They can be used to visualize the relationships between different variables in a dataset, helping to identify correlations or\n",
        "dependencies.\n",
        "Eye-Tracking Studies: Heatmaps can visually represent where users focus their attention during eye-tracking studies, providing insights into how they\n",
        "perceive and interact with a visual display."
      ],
      "metadata": {
        "id": "_2J5G1ypetwH"
      },
      "execution_count": null,
      "outputs": []
    },
    {
      "cell_type": "code",
      "source": [
        "#8. What does the term “vectorized operation” mean in NumPy?\n",
        "\n",
        "In NumPy, a vectorized operation means performing an operation on entire arrays (vectors, matrices, etc.) without using explicit loops like for or\n",
        "while.\n",
        "Instead of looping through each element one by one, NumPy uses optimized C-level code under the hood to do the calculation on the whole array at\n",
        "once — which makes it much faster and more efficient.\n",
        "\n",
        "Example-\n",
        "import numpy as np\n",
        "\n",
        "a = np.array([1, 2, 3, 4])\n",
        "b = np.array([5, 6, 7, 8])\n",
        "\n",
        "result = a + b\n",
        "print(result)\n"
      ],
      "metadata": {
        "id": "rDPP3eQ6f5NO"
      },
      "execution_count": null,
      "outputs": []
    },
    {
      "cell_type": "code",
      "source": [
        "#9. How does Matplotlib differ from Plotly?\n",
        "\n",
        "Matplotlib-\n",
        "-Matplotlib is a Python library for creating static, 2D plots (and basic 3D plots).\n",
        "-It’s like drawing on paper: you create your figure, plot your data, and save it as an image.\n",
        "-Style: Classic, scientific — great for research papers or reports.\n",
        "-Interactivity: Very limited (zoom/pan in some environments like Jupyter).\n",
        "-Use Case: Line charts, bar charts, scatter plots, histograms, heatmaps — mainly when you want a static image\n",
        "\n",
        "Plotly-\n",
        "-Plotly is a Python library for making interactive, web-based plots.\n",
        "-It creates plots you can zoom, hover over, and explore directly in a browser or Jupyter Notebook.\n",
        "-Style: Modern and clean — great for dashboards and presentations.\n",
        "-Interactivity: Built-in (hover tooltips, zoom, pan, export as PNG).\n",
        "-Use Case: When you want your audience to interact with your chart, or you want dynamic visual exploration."
      ],
      "metadata": {
        "id": "SzhfarI2gl6y"
      },
      "execution_count": null,
      "outputs": []
    },
    {
      "cell_type": "code",
      "source": [
        "#10. What is the significance of hierarchical indexing in Pandas?\n",
        "\n",
        "Hierarchical Indexing (or MultiIndexing) in Pandas is super useful when you want to work with higher-dimensional data in a 2D structure (like a\n",
        "DataFrame). Instead of sticking to a single row or column label, hierarchical indexing allows you to have multiple levels of index labels.\n",
        "\n",
        "Significance of Hierarchical Indexing in Pandas:\n",
        "1. Handles Multi-Dimensional Data:\n",
        "You can store and work with higher-dimensional data in a 2D table.\n",
        "Example: If you have sales data for multiple cities across several years — you can have City and Year as multi-level indexes.\n",
        "\n",
        "2. Better Data Organization:\n",
        "Allows you to group and categorize data naturally.\n",
        "Makes it easy to view, slice, and analyze complex datasets.\n",
        "\n",
        "3. Simplifies Grouping and Aggregation:\n",
        "When using functions like groupby(), hierarchical indexing makes the resulting data easier to interpret and use.\n",
        "\n",
        "4. Flexible Data Selection:\n",
        "You can easily select data at different levels using .loc[] or .xs().\n",
        "Example: You can pull all the data for a specific city, or a specific year, or even drill down to a specific month.\n",
        "\n",
        "5. Cleaner Pivot Tables:\n",
        "It helps structure the output of pivot tables and complex reshaping operations (stack, unstack, melt)."
      ],
      "metadata": {
        "id": "CRuhWWHPheI3"
      },
      "execution_count": null,
      "outputs": []
    },
    {
      "cell_type": "code",
      "source": [
        "#11. What is the role of Seaborn’s pairplot() function?\n",
        "\n",
        "The pairplot() function in Seaborn is a super handy tool for visualizing relationships between multiple variables in a dataset, especially when\n",
        "you're doing exploratory data analysis (EDA).\n",
        "\n",
        "Role of pairplot()\n",
        "It creates a matrix of plots:\n",
        "Scatter plots for relationships between two continuous variables.\n",
        "Histograms (or KDE plots) along the diagonal to show the distribution of each individual variable.\n",
        "\n",
        "Why it’s useful:\n",
        "Quickly spot correlations, patterns, clusters, or outliers.\n",
        "Helps you understand the pairwise relationships in your dataset.\n",
        "Supports easy categorical separation using the hue argument."
      ],
      "metadata": {
        "id": "HLbFDa2ueApD"
      },
      "execution_count": null,
      "outputs": []
    },
    {
      "cell_type": "code",
      "source": [
        "#12. What is the purpose of the describe() function in Pandas?\n",
        "\n",
        "the describe() function in Pandas is super handy when you want a quick summary of your data!\n",
        "\n",
        "describe() is used to generate descriptive statistics of a DataFrame or a Series. It helps you understand the distribution and spread of your\n",
        "data at a glance.\n",
        "\n",
        "Example-\n",
        "import pandas as pd\n",
        "\n",
        "data = {\n",
        "    'Age': [23, 45, 12, 36, 27],\n",
        "    'Salary': [50000, 80000, 20000, 65000, 45000]\n",
        "}\n",
        "\n",
        "df = pd.DataFrame(data)\n",
        "\n",
        "print(df.describe())"
      ],
      "metadata": {
        "id": "ZJYGEmJhhX8M"
      },
      "execution_count": null,
      "outputs": []
    },
    {
      "cell_type": "code",
      "source": [
        "#13. Why is handling missing data important in Pandas?\n",
        "\n",
        "This is actually a super important concept, especially if you’re aiming to be a data analyst!\n",
        "\n",
        "Handling missing data in Pandas (or any data analysis) is important because:\n",
        "\n",
        "Accuracy of Analysis: Missing values can skew your results. Many functions like mean(), sum(), or correlation() will return incorrect or misleading outputs if you don't\n",
        "handle NaN values properly.\n",
        "\n",
        "Prevent Errors: If you don’t handle missing data, it can cause your code to break or your model to crash, especially when you’re passing data to machine learning\n",
        "algorithms — most models don't accept NaN values.\n",
        "\n",
        "Data Integrity: Ignoring missing data might hide underlying issues like data entry errors, sensor failures, or scraping problems. Handling them forces you to\n",
        "understand the nature of your dataset better.\n",
        "\n",
        "Better Decision-Making: Clean and complete data leads to more reliable insights, which are the foundation for making strong business or research decisions"
      ],
      "metadata": {
        "id": "B7pG0EdZkA-G"
      },
      "execution_count": null,
      "outputs": []
    },
    {
      "cell_type": "code",
      "source": [
        "#14. What are the benefits of using Plotly for data visualization?\n",
        "\n",
        "Plotly is a really popular choice for data visualization, especially if you want your charts to be interactive and visually appealing. Here are\n",
        "some solid benefits of using Plotly:\n",
        "\n",
        "1. Benefits of Using Plotly\n",
        "-Interactive Visualizations\n",
        "Unlike static charts (like in Matplotlib), Plotly gives you interactive features out of the box:\n",
        "-Zooming\n",
        "-Panning\n",
        "-Hover tooltips\n",
        "-Legend toggling\n",
        "This is super helpful for exploring large or detailed datasets.\n",
        "\n",
        "2. Beautiful and Professional-Looking Charts\n",
        "Plotly’s default styles are clean, modern, and presentation-ready — which saves you a lot of tweaking time, especially if you’re preparing reports\n",
        "or dashboards."
      ],
      "metadata": {
        "id": "UTswu39nlHeE"
      },
      "execution_count": null,
      "outputs": []
    },
    {
      "cell_type": "code",
      "source": [
        "#15. How does NumPy handle multidimensional arrays?\n",
        "\n",
        "NumPy handles multidimensional arrays through its core data structure called the ndarray (short for n-dimensional array). This is a super-efficient,\n",
        "flexible, and powerful way to store and manipulate large datasets in Python.\n",
        "Key points on how NumPy handles multidimensional arrays:\n",
        "1. Creation\n",
        "You can create arrays of any dimension using functions like np.array(), np.zeros(), np.ones(), np.arange(), or np.reshape().\n",
        "\n",
        "2. Shape & Dimensions\n",
        "ndarray.shape: tells you the size in each dimension.\n",
        "ndarray.ndim: tells you how many dimensions.\n",
        "\n",
        "3. Efficient Storage\n",
        "NumPy stores all data in contiguous memory blocks, which makes access and operations extremely fast compared to Python lists. It uses a single data\n",
        "type (dtype) for all elements in the array to boost performance.\n",
        "\n",
        "4. Broadcasting\n",
        "NumPy uses broadcasting rules to perform operations between arrays of different shapes without explicitly copying data."
      ],
      "metadata": {
        "id": "FhVlCJTJlz6s"
      },
      "execution_count": null,
      "outputs": []
    },
    {
      "cell_type": "code",
      "source": [
        "#16. What is the role of Bokeh in data visualization?\n",
        "\n",
        "Bokeh is a powerful Python library used for creating interactive, browser-based visualizations. It’s especially useful when you want your plots to\n",
        "be more than just static images — think zooming, panning, tooltips, and live updates.\n",
        "\n",
        "Role of Bokeh in Data Visualization:\n",
        "1. Interactive Plots\n",
        "Bokeh lets you create dynamic charts where users can zoom, hover to see data, select ranges, or filter data directly on the plot.\n",
        "\n",
        "2. Web-Ready Visuals\n",
        "Plots created with Bokeh can easily be embedded into websites, dashboards, or Jupyter notebooks, making it a good choice for web apps and reports.\n",
        "\n",
        "3. Handles Large Datasets Smoothly\n",
        "Bokeh can handle large streaming data or big datasets better than many traditional static plotting libraries (like Matplotlib), especially when\n",
        "you’re visualizing in the browser.\n",
        "\n",
        "4. Python-friendly\n",
        "You don’t need to learn JavaScript for interactive web visualizations — Bokeh lets you write everything in Python, but it renders as JavaScript in\n",
        "the browser."
      ],
      "metadata": {
        "id": "IYPq9mQwmuXy"
      },
      "execution_count": null,
      "outputs": []
    },
    {
      "cell_type": "code",
      "source": [
        "#17. Explain the difference between apply() and map() in Pandas?\n",
        "\n",
        "map()-\n",
        "\n",
        "Used on: a Series (single column).\n",
        "Purpose: Element-wise operation — applies a function to each value in the Series.\n",
        "Returns: a new Series.\n",
        "Typical use: When you want to transform or map values, especially with dictionaries, functions, or lambda expressions.\n",
        "Example-\n",
        "import pandas as pd\n",
        "\n",
        "s = pd.Series([1, 2, 3, 4])\n",
        "print(s.map(lambda x: x * 10))\n",
        "\n",
        "apply()-\n",
        "\n",
        "Used on: both a Series and a DataFrame.\n",
        "Purpose: Applies a function along the axis:\n",
        "-If used on a Series: works like map(), applies the function to each element.\n",
        "-If used on a DataFrame: you can specify axis=0 (apply to each column) or axis=1 (apply to each row).\n",
        "Returns: depends on the function — often a Series or a DataFrame.\n",
        "Example-\n",
        "df = pd.DataFrame({\n",
        "    'A': [1, 2, 3],\n",
        "    'B': [10, 20, 30]\n",
        "})\n",
        "\n",
        "print(df.apply(sum))  # Sums each column"
      ],
      "metadata": {
        "id": "0RzH9BiVnk7W"
      },
      "execution_count": null,
      "outputs": []
    },
    {
      "cell_type": "code",
      "source": [
        "#18. What are some advanced features of NumPy?\n",
        "\n",
        "The basics of NumPy (arrays, indexing, broadcasting, etc.) diving into its advanced features can really level up your data manipulation and\n",
        "analysis game! Here’s a solid list:\n",
        "\n",
        "1. Vectorization\n",
        "-Avoids explicit for loops by applying operations directly on arrays.\n",
        "-Much faster and cleaner!\n",
        "2. Broadcasting\n",
        "-Allows operations on arrays of different shapes without explicit replication.\n",
        "3. Fancy Indexing\n",
        "-Use arrays of integers or booleans to access multiple array elements at once.\n",
        "4. Masked Arrays\n",
        "-Handle invalid or missing data elegantly.\n",
        "5. Memory Mapping (Large Files)\n",
        "-numpy.memmap lets you work with files too big for RAM.\n",
        "6. Structured Arrays\n",
        "-Like mini databases — arrays that hold mixed data types."
      ],
      "metadata": {
        "id": "QxgFdncvoN9j"
      },
      "execution_count": null,
      "outputs": []
    },
    {
      "cell_type": "code",
      "source": [
        "#19. How does Pandas simplify time series analysis?\n",
        "\n",
        "Pandas makes time series analysis so much easier and more intuitive in Python!\n",
        "1. Datetime Handling\n",
        "Pandas can easily convert strings to datetime objects using:\n",
        "pd.to_datetime()\n",
        "Once converted, your dates become smart — meaning Pandas can sort, filter, and manipulate them like magic.\n",
        "2. Date Indexing\n",
        "When you set your DataFrame's index to a DatetimeIndex, you can:\n",
        "Slice data by date ranges (like df['2024-01'] for January 2024).\n",
        "Easily resample, group, and perform window operations.\n",
        "df = df.set_index('date')\n",
        "df['2023']  # pulls all data for 2023\n",
        "3. Resampling\n",
        "You can upsample or downsample data (like converting daily data to monthly averages) using:\n",
        "df.resample('M').mean()  # Resample to monthly mean\n",
        "This is super handy for summarizing or reshaping irregular time series.\n",
        "4. Time Shifting\n",
        "Pandas allows easy forward or backward shifting of time-indexed data:\n",
        "df.shift(1)  # shift data forward\n",
        "df.tshift(1) # shift index forward (deprecated in newer versions)\n",
        "5. Rolling Window Calculations\n",
        "Perfect for moving averages, rolling sums, or custom window operations:\n",
        "df['rolling_mean'] = df['value'].rolling(window=7).mean()"
      ],
      "metadata": {
        "id": "Z7th5BPfx4To"
      },
      "execution_count": null,
      "outputs": []
    },
    {
      "cell_type": "code",
      "source": [
        "#20. What is the role of a pivot table in Pandas?\n",
        "\n",
        "In Pandas, a pivot table is a super handy way to summarize, group, and reorganize data. If you're coming from Excel, it's very similar to Excel's\n",
        "pivot table feature.\n",
        "\n",
        "-Role of a Pivot Table in Pandas:\n",
        "A pivot table helps you:\n",
        "Group data — like grouping sales by month or region.\n",
        "Aggregate data — like calculating the sum, mean, count, etc., of groups.\n",
        "Reshape data — turning rows into columns or vice versa for better analysis."
      ],
      "metadata": {
        "id": "Lkof7-JqzGEc"
      },
      "execution_count": null,
      "outputs": []
    },
    {
      "cell_type": "code",
      "source": [
        "#21. Why is NumPy’s array slicing faster than Python’s list slicing?\n",
        "\n",
        "The key reasons NumPy’s array slicing is faster than Python’s list slicing are:\n",
        "1. NumPy uses contiguous memory blocks\n",
        "-NumPy arrays are stored in contiguous memory locations (like C arrays), which makes it super efficient to compute the position of each element.\n",
        "-Python lists are actually arrays of pointers to objects, meaning each list item is a reference, not raw data — so slicing involves creating a new\n",
        "list and copying each pointer, which takes more time.\n",
        "2. Slicing is a \"view,\" not a copy (usually)\n",
        "-In NumPy, slicing an array usually returns a view of the same data (not a new object). This means almost no data is moved or copied, just a new\n",
        "object pointing to the same memory.\n",
        "-Python lists create a new list when you slice, which involves allocating memory and copying over the items.\n",
        "3. Optimized C Backend\n",
        "-NumPy is written in C, and many of its operations (including slicing) use highly optimized low-level code.\n",
        "-Python lists are purely high-level Python objects, so they rely on the interpreter, which is slower."
      ],
      "metadata": {
        "id": "PNDc6qjMzjX2"
      },
      "execution_count": null,
      "outputs": []
    },
    {
      "cell_type": "code",
      "source": [
        "#22. What are some common use cases for Seaborn?\n",
        "\n",
        "Seaborn is super popular for data visualization in Python, especially when you're working with statistical data. It’s built on top of Matplotlib\n",
        "but gives you cleaner, more stylish, and more informative plots with less code.\n",
        "\n",
        "Here are some common use cases for Seaborn:\n",
        "1. Exploratory Data Analysis (EDA)\n",
        "Quickly visualize relationships, distributions, and patterns in your dataset.\n",
        "Great for spotting trends, outliers, and correlations before modeling.\n",
        "2. Distribution Plots\n",
        "Understand the spread and shape of data.\n",
        "Common functions:\n",
        "sns.histplot() — Histogram\n",
        "sns.kdeplot() — Kernel Density Estimate (smooth curve)\n",
        "sns.displot() — Combined distribution plots\n",
        "3.Relationship Analysis\n",
        "Check how two or more variables relate.\n",
        "Common functions:\n",
        "sns.scatterplot() — Scatter plot\n",
        "sns.lineplot() — Line plot\n",
        "sns.lmplot() — Regression line + scatter plot\n",
        "sns.pairplot() — Pairwise relationships between all numerical columns.\n",
        "4. Heatmaps\n",
        "Show correlation matrices or any 2D numerical data.\n",
        "sns.heatmap() — Popular for showing relationships between variables (like correlation coefficients)."
      ],
      "metadata": {
        "id": "9j0dcah80hbB"
      },
      "execution_count": null,
      "outputs": []
    },
    {
      "cell_type": "markdown",
      "source": [
        "**Practical** **Question**"
      ],
      "metadata": {
        "id": "om8W2p6c1KSV"
      }
    },
    {
      "cell_type": "code",
      "source": [
        "#1. How do you create a 2D NumPy array and calculate the sum of each row?\n",
        "\n",
        "import numpy as np\n",
        "\n",
        "# Creating a 2D NumPy array\n",
        "arr = np.array([[1, 2, 3],\n",
        "                [4, 5, 6],\n",
        "                [7, 8, 9]])\n",
        "\n",
        "# Calculating the sum of each row\n",
        "row_sums = np.sum(arr, axis=1)\n",
        "\n",
        "print(row_sums)"
      ],
      "metadata": {
        "colab": {
          "base_uri": "https://localhost:8080/"
        },
        "id": "LprymMUZ1Tjb",
        "outputId": "09e17644-c220-4889-edb7-269135b9a70a"
      },
      "execution_count": null,
      "outputs": [
        {
          "output_type": "stream",
          "name": "stdout",
          "text": [
            "[ 6 15 24]\n"
          ]
        }
      ]
    },
    {
      "cell_type": "code",
      "source": [
        "#2. Write a Pandas script to find the mean of a specific column in a DataFrame.\n",
        "\n",
        "import pandas as pd\n",
        "\n",
        "# Sample DataFrame\n",
        "data = {\n",
        "    'Name': ['Alice', 'Bob', 'Charlie', 'David'],\n",
        "    'Age': [25, 30, 35, 40],\n",
        "    'Salary': [50000, 60000, 70000, 80000]\n",
        "}\n",
        "\n",
        "df = pd.DataFrame(data)\n",
        "\n",
        "# Calculate the mean of the 'Salary' column\n",
        "mean_salary = df['Salary'].mean()\n",
        "\n",
        "print(f\"The mean salary is: {mean_salary}\")"
      ],
      "metadata": {
        "colab": {
          "base_uri": "https://localhost:8080/"
        },
        "id": "dkEBKMo719fi",
        "outputId": "529de96b-2557-4df4-81fb-eba0f8c05f33"
      },
      "execution_count": null,
      "outputs": [
        {
          "output_type": "stream",
          "name": "stdout",
          "text": [
            "The mean salary is: 65000.0\n"
          ]
        }
      ]
    },
    {
      "cell_type": "code",
      "source": [
        "#3. Create a scatter plot using Matplotlib.\n",
        "\n",
        "import matplotlib.pyplot as plt\n",
        "\n",
        "# Sample data\n",
        "x = [1, 2, 3, 4, 5]\n",
        "y = [2, 3, 5, 7, 11]\n",
        "\n",
        "# Create scatter plot\n",
        "plt.scatter(x, y, color='blue', marker='o')\n",
        "\n",
        "# Add labels and title\n",
        "plt.xlabel('X-axis')\n",
        "plt.ylabel('Y-axis')\n",
        "plt.title('Simple Scatter Plot')\n",
        "\n",
        "# Show plot\n",
        "plt.show()"
      ],
      "metadata": {
        "colab": {
          "base_uri": "https://localhost:8080/",
          "height": 472
        },
        "id": "ao5ofACA2V5t",
        "outputId": "a7ebc7c4-bffa-4b7b-f1ff-4d2e0c09578b"
      },
      "execution_count": null,
      "outputs": [
        {
          "output_type": "display_data",
          "data": {
            "text/plain": [
              "<Figure size 640x480 with 1 Axes>"
            ],
            "image/png": "[encoded data removed]"
          },
          "metadata": {}
        }
      ]
    },
    {
      "cell_type": "code",
      "source": [
        "#4. How do you calculate the correlation matrix using Seaborn and visualize it with a heatmap?\n",
        "\n",
        "import pandas as pd\n",
        "import seaborn as sns\n",
        "import matplotlib.pyplot as plt\n",
        "\n",
        "data = {\n",
        "    'Age': [25, 30, 35, 40, 45],\n",
        "    'Salary': [50000, 60000, 80000, 110000, 150000],\n",
        "    'Experience': [1, 3, 5, 8, 12]\n",
        "}\n",
        "\n",
        "df = pd.DataFrame(data)\n",
        "\n",
        "corr_matrix = df.corr()\n",
        "print(corr_matrix)\n",
        "\n",
        "plt.figure(figsize=(8, 6))\n",
        "sns.heatmap(corr_matrix, annot=True, cmap='coolwarm', fmt=\".2f\", linewidths=0.5)\n",
        "plt.title('Correlation Matrix Heatmap')\n",
        "plt.show()"
      ],
      "metadata": {
        "colab": {
          "base_uri": "https://localhost:8080/",
          "height": 614
        },
        "id": "nTnf0dvn2sKM",
        "outputId": "df67a2cb-d3e9-41fe-995e-082ab7e89140"
      },
      "execution_count": null,
      "outputs": [
        {
          "output_type": "stream",
          "name": "stdout",
          "text": [
            "                 Age    Salary  Experience\n",
            "Age         1.000000  0.973124    0.987218\n",
            "Salary      0.973124  1.000000    0.996266\n",
            "Experience  0.987218  0.996266    1.000000\n"
          ]
        },
        {
          "output_type": "display_data",
          "data": {
            "text/plain": [
              "<Figure size 800x600 with 2 Axes>"
            ],
            "image/png": "[encoded data removed]"
          },
          "metadata": {}
        }
      ]
    },
    {
      "cell_type": "code",
      "source": [
        "#5. Generate a bar plot using Plotly.\n",
        "\n",
        "import plotly.graph_objects as go\n",
        "\n",
        "categories = ['Category A', 'Category B', 'Category C', 'Category D']\n",
        "values = [10, 15, 7, 12]\n",
        "\n",
        "fig = go.Figure(data=[\n",
        "    go.Bar(name='Example', x=categories, y=values)\n",
        "])\n",
        "\n",
        "fig.update_layout(\n",
        "    title='Simple Bar Plot Example',\n",
        "    xaxis_title='Categories',\n",
        "    yaxis_title='Values',\n",
        "    template='plotly',\n",
        "    bargap=0.2\n",
        ")\n",
        "\n",
        "fig.show()"
      ],
      "metadata": {
        "colab": {
          "base_uri": "https://localhost:8080/",
          "height": 542
        },
        "id": "gCobEmTM3S4i",
        "outputId": "86358e95-9d71-4971-95e8-845420fbbb44"
      },
      "execution_count": null,
      "outputs": [
        {
          "output_type": "display_data",
          "data": {
            "text/html": [
              "<html>\n",
              "<head><meta charset=\"utf-8\" /></head>\n",
              "<body>\n",
              "    <div>            <script src=\"https://cdnjs.cloudflare.com/ajax/libs/mathjax/2.7.5/MathJax.js?config=TeX-AMS-MML_SVG\"></script><script type=\"text/javascript\">if (window.MathJax && window.MathJax.Hub && window.MathJax.Hub.Config) {window.MathJax.Hub.Config({SVG: {font: \"STIX-Web\"}});}</script>                <script type=\"text/javascript\">window.PlotlyConfig = {MathJaxConfig: 'local'};</script>\n",
              "        <script charset=\"utf-8\" src=\"https://cdn.plot.ly/plotly-2.35.2.min.js\"></script>                <div id=\"4bc749b4-0090-40db-b320-63ae13038143\" class=\"plotly-graph-div\" style=\"height:525px; width:100%;\"></div>            <script type=\"text/javascript\">                                    window.PLOTLYENV=window.PLOTLYENV || {};                                    if (document.getElementById(\"4bc749b4-0090-40db-b320-63ae13038143\")) {                    Plotly.newPlot(                        \"4bc749b4-0090-40db-b320-63ae13038143\",                        [{\"name\":\"Example\",\"x\":[\"Category A\",\"Category B\",\"Category C\",\"Category D\"],\"y\":[10,15,7,12],\"type\":\"bar\"}],                        {\"template\":{\"data\":{\"histogram2dcontour\":[{\"type\":\"histogram2dcontour\",\"colorbar\":{\"outlinewidth\":0,\"ticks\":\"\"},\"colorscale\":[[0.0,\"#0d0887\"],[0.1111111111111111,\"#46039f\"],[0.2222222222222222,\"#7201a8\"],[0.3333333333333333,\"#9c179e\"],[0.4444444444444444,\"#bd3786\"],[0.5555555555555556,\"#d8576b\"],[0.6666666666666666,\"#ed7953\"],[0.7777777777777778,\"#fb9f3a\"],[0.8888888888888888,\"#fdca26\"],[1.0,\"#f0f921\"]]}],\"choropleth\":[{\"type\":\"choropleth\",\"colorbar\":{\"outlinewidth\":0,\"ticks\":\"\"}}],\"histogram2d\":[{\"type\":\"histogram2d\",\"colorbar\":{\"outlinewidth\":0,\"ticks\":\"\"},\"colorscale\":[[0.0,\"#0d0887\"],[0.1111111111111111,\"#46039f\"],[0.2222222222222222,\"#7201a8\"],[0.3333333333333333,\"#9c179e\"],[0.4444444444444444,\"#bd3786\"],[0.5555555555555556,\"#d8576b\"],[0.6666666666666666,\"#ed7953\"],[0.7777777777777778,\"#fb9f3a\"],[0.8888888888888888,\"#fdca26\"],[1.0,\"#f0f921\"]]}],\"heatmap\":[{\"type\":\"heatmap\",\"colorbar\":{\"outlinewidth\":0,\"ticks\":\"\"},\"colorscale\":[[0.0,\"#0d0887\"],[0.1111111111111111,\"#46039f\"],[0.2222222222222222,\"#7201a8\"],[0.3333333333333333,\"#9c179e\"],[0.4444444444444444,\"#bd3786\"],[0.5555555555555556,\"#d8576b\"],[0.6666666666666666,\"#ed7953\"],[0.7777777777777778,\"#fb9f3a\"],[0.8888888888888888,\"#fdca26\"],[1.0,\"#f0f921\"]]}],\"heatmapgl\":[{\"type\":\"heatmapgl\",\"colorbar\":{\"outlinewidth\":0,\"ticks\":\"\"},\"colorscale\":[[0.0,\"#0d0887\"],[0.1111111111111111,\"#46039f\"],[0.2222222222222222,\"#7201a8\"],[0.3333333333333333,\"#9c179e\"],[0.4444444444444444,\"#bd3786\"],[0.5555555555555556,\"#d8576b\"],[0.6666666666666666,\"#ed7953\"],[0.7777777777777778,\"#fb9f3a\"],[0.8888888888888888,\"#fdca26\"],[1.0,\"#f0f921\"]]}],\"contourcarpet\":[{\"type\":\"contourcarpet\",\"colorbar\":{\"outlinewidth\":0,\"ticks\":\"\"}}],\"contour\":[{\"type\":\"contour\",\"colorbar\":{\"outlinewidth\":0,\"ticks\":\"\"},\"colorscale\":[[0.0,\"#0d0887\"],[0.1111111111111111,\"#46039f\"],[0.2222222222222222,\"#7201a8\"],[0.3333333333333333,\"#9c179e\"],[0.4444444444444444,\"#bd3786\"],[0.5555555555555556,\"#d8576b\"],[0.6666666666666666,\"#ed7953\"],[0.7777777777777778,\"#fb9f3a\"],[0.8888888888888888,\"#fdca26\"],[1.0,\"#f0f921\"]]}],\"surface\":[{\"type\":\"surface\",\"colorbar\":{\"outlinewidth\":0,\"ticks\":\"\"},\"colorscale\":[[0.0,\"#0d0887\"],[0.1111111111111111,\"#46039f\"],[0.2222222222222222,\"#7201a8\"],[0.3333333333333333,\"#9c179e\"],[0.4444444444444444,\"#bd3786\"],[0.5555555555555556,\"#d8576b\"],[0.6666666666666666,\"#ed7953\"],[0.7777777777777778,\"#fb9f3a\"],[0.8888888888888888,\"#fdca26\"],[1.0,\"#f0f921\"]]}],\"mesh3d\":[{\"type\":\"mesh3d\",\"colorbar\":{\"outlinewidth\":0,\"ticks\":\"\"}}],\"scatter\":[{\"fillpattern\":{\"fillmode\":\"overlay\",\"size\":10,\"solidity\":0.2},\"type\":\"scatter\"}],\"parcoords\":[{\"type\":\"parcoords\",\"line\":{\"colorbar\":{\"outlinewidth\":0,\"ticks\":\"\"}}}],\"scatterpolargl\":[{\"type\":\"scatterpolargl\",\"marker\":{\"colorbar\":{\"outlinewidth\":0,\"ticks\":\"\"}}}],\"bar\":[{\"error_x\":{\"color\":\"#2a3f5f\"},\"error_y\":{\"color\":\"#2a3f5f\"},\"marker\":{\"line\":{\"color\":\"#E5ECF6\",\"width\":0.5},\"pattern\":{\"fillmode\":\"overlay\",\"size\":10,\"solidity\":0.2}},\"type\":\"bar\"}],\"scattergeo\":[{\"type\":\"scattergeo\",\"marker\":{\"colorbar\":{\"outlinewidth\":0,\"ticks\":\"\"}}}],\"scatterpolar\":[{\"type\":\"scatterpolar\",\"marker\":{\"colorbar\":{\"outlinewidth\":0,\"ticks\":\"\"}}}],\"histogram\":[{\"marker\":{\"pattern\":{\"fillmode\":\"overlay\",\"size\":10,\"solidity\":0.2}},\"type\":\"histogram\"}],\"scattergl\":[{\"type\":\"scattergl\",\"marker\":{\"colorbar\":{\"outlinewidth\":0,\"ticks\":\"\"}}}],\"scatter3d\":[{\"type\":\"scatter3d\",\"line\":{\"colorbar\":{\"outlinewidth\":0,\"ticks\":\"\"}},\"marker\":{\"colorbar\":{\"outlinewidth\":0,\"ticks\":\"\"}}}],\"scattermapbox\":[{\"type\":\"scattermapbox\",\"marker\":{\"colorbar\":{\"outlinewidth\":0,\"ticks\":\"\"}}}],\"scatterternary\":[{\"type\":\"scatterternary\",\"marker\":{\"colorbar\":{\"outlinewidth\":0,\"ticks\":\"\"}}}],\"scattercarpet\":[{\"type\":\"scattercarpet\",\"marker\":{\"colorbar\":{\"outlinewidth\":0,\"ticks\":\"\"}}}],\"carpet\":[{\"aaxis\":{\"endlinecolor\":\"#2a3f5f\",\"gridcolor\":\"white\",\"linecolor\":\"white\",\"minorgridcolor\":\"white\",\"startlinecolor\":\"#2a3f5f\"},\"baxis\":{\"endlinecolor\":\"#2a3f5f\",\"gridcolor\":\"white\",\"linecolor\":\"white\",\"minorgridcolor\":\"white\",\"startlinecolor\":\"#2a3f5f\"},\"type\":\"carpet\"}],\"table\":[{\"cells\":{\"fill\":{\"color\":\"#EBF0F8\"},\"line\":{\"color\":\"white\"}},\"header\":{\"fill\":{\"color\":\"#C8D4E3\"},\"line\":{\"color\":\"white\"}},\"type\":\"table\"}],\"barpolar\":[{\"marker\":{\"line\":{\"color\":\"#E5ECF6\",\"width\":0.5},\"pattern\":{\"fillmode\":\"overlay\",\"size\":10,\"solidity\":0.2}},\"type\":\"barpolar\"}],\"pie\":[{\"automargin\":true,\"type\":\"pie\"}]},\"layout\":{\"autotypenumbers\":\"strict\",\"colorway\":[\"#636efa\",\"#EF553B\",\"#00cc96\",\"#ab63fa\",\"#FFA15A\",\"#19d3f3\",\"#FF6692\",\"#B6E880\",\"#FF97FF\",\"#FECB52\"],\"font\":{\"color\":\"#2a3f5f\"},\"hovermode\":\"closest\",\"hoverlabel\":{\"align\":\"left\"},\"paper_bgcolor\":\"white\",\"plot_bgcolor\":\"#E5ECF6\",\"polar\":{\"bgcolor\":\"#E5ECF6\",\"angularaxis\":{\"gridcolor\":\"white\",\"linecolor\":\"white\",\"ticks\":\"\"},\"radialaxis\":{\"gridcolor\":\"white\",\"linecolor\":\"white\",\"ticks\":\"\"}},\"ternary\":{\"bgcolor\":\"#E5ECF6\",\"aaxis\":{\"gridcolor\":\"white\",\"linecolor\":\"white\",\"ticks\":\"\"},\"baxis\":{\"gridcolor\":\"white\",\"linecolor\":\"white\",\"ticks\":\"\"},\"caxis\":{\"gridcolor\":\"white\",\"linecolor\":\"white\",\"ticks\":\"\"}},\"coloraxis\":{\"colorbar\":{\"outlinewidth\":0,\"ticks\":\"\"}},\"colorscale\":{\"sequential\":[[0.0,\"#0d0887\"],[0.1111111111111111,\"#46039f\"],[0.2222222222222222,\"#7201a8\"],[0.3333333333333333,\"#9c179e\"],[0.4444444444444444,\"#bd3786\"],[0.5555555555555556,\"#d8576b\"],[0.6666666666666666,\"#ed7953\"],[0.7777777777777778,\"#fb9f3a\"],[0.8888888888888888,\"#fdca26\"],[1.0,\"#f0f921\"]],\"sequentialminus\":[[0.0,\"#0d0887\"],[0.1111111111111111,\"#46039f\"],[0.2222222222222222,\"#7201a8\"],[0.3333333333333333,\"#9c179e\"],[0.4444444444444444,\"#bd3786\"],[0.5555555555555556,\"#d8576b\"],[0.6666666666666666,\"#ed7953\"],[0.7777777777777778,\"#fb9f3a\"],[0.8888888888888888,\"#fdca26\"],[1.0,\"#f0f921\"]],\"diverging\":[[0,\"#8e0152\"],[0.1,\"#c51b7d\"],[0.2,\"#de77ae\"],[0.3,\"#f1b6da\"],[0.4,\"#fde0ef\"],[0.5,\"#f7f7f7\"],[0.6,\"#e6f5d0\"],[0.7,\"#b8e186\"],[0.8,\"#7fbc41\"],[0.9,\"#4d9221\"],[1,\"#276419\"]]},\"xaxis\":{\"gridcolor\":\"white\",\"linecolor\":\"white\",\"ticks\":\"\",\"title\":{\"standoff\":15},\"zerolinecolor\":\"white\",\"automargin\":true,\"zerolinewidth\":2},\"yaxis\":{\"gridcolor\":\"white\",\"linecolor\":\"white\",\"ticks\":\"\",\"title\":{\"standoff\":15},\"zerolinecolor\":\"white\",\"automargin\":true,\"zerolinewidth\":2},\"scene\":{\"xaxis\":{\"backgroundcolor\":\"#E5ECF6\",\"gridcolor\":\"white\",\"linecolor\":\"white\",\"showbackground\":true,\"ticks\":\"\",\"zerolinecolor\":\"white\",\"gridwidth\":2},\"yaxis\":{\"backgroundcolor\":\"#E5ECF6\",\"gridcolor\":\"white\",\"linecolor\":\"white\",\"showbackground\":true,\"ticks\":\"\",\"zerolinecolor\":\"white\",\"gridwidth\":2},\"zaxis\":{\"backgroundcolor\":\"#E5ECF6\",\"gridcolor\":\"white\",\"linecolor\":\"white\",\"showbackground\":true,\"ticks\":\"\",\"zerolinecolor\":\"white\",\"gridwidth\":2}},\"shapedefaults\":{\"line\":{\"color\":\"#2a3f5f\"}},\"annotationdefaults\":{\"arrowcolor\":\"#2a3f5f\",\"arrowhead\":0,\"arrowwidth\":1},\"geo\":{\"bgcolor\":\"white\",\"landcolor\":\"#E5ECF6\",\"subunitcolor\":\"white\",\"showland\":true,\"showlakes\":true,\"lakecolor\":\"white\"},\"title\":{\"x\":0.05},\"mapbox\":{\"style\":\"light\"}}},\"title\":{\"text\":\"Simple Bar Plot Example\"},\"xaxis\":{\"title\":{\"text\":\"Categories\"}},\"yaxis\":{\"title\":{\"text\":\"Values\"}},\"bargap\":0.2},                        {\"responsive\": true}                    ).then(function(){\n",
              "                            \n",
              "var gd = document.getElementById('4bc749b4-0090-40db-b320-63ae13038143');\n",
              "var x = new MutationObserver(function (mutations, observer) {{\n",
              "        var display = window.getComputedStyle(gd).display;\n",
              "        if (!display || display === 'none') {{\n",
              "            console.log([gd, 'removed!']);\n",
              "            Plotly.purge(gd);\n",
              "            observer.disconnect();\n",
              "        }}\n",
              "}});\n",
              "\n",
              "// Listen for the removal of the full notebook cells\n",
              "var notebookContainer = gd.closest('#notebook-container');\n",
              "if (notebookContainer) {{\n",
              "    x.observe(notebookContainer, {childList: true});\n",
              "}}\n",
              "\n",
              "// Listen for the clearing of the current output cell\n",
              "var outputEl = gd.closest('.output');\n",
              "if (outputEl) {{\n",
              "    x.observe(outputEl, {childList: true});\n",
              "}}\n",
              "\n",
              "                        })                };                            </script>        </div>\n",
              "</body>\n",
              "</html>"
            ]
          },
          "metadata": {}
        }
      ]
    },
    {
      "cell_type": "code",
      "source": [
        "#6. Create a DataFrame and add a new column based on an existing column?\n",
        "\n",
        "import pandas as pd\n",
        "\n",
        "# Step 1: Create a sample DataFrame\n",
        "data = {\n",
        "    'Name': ['Alice', 'Bob', 'Charlie', 'David'],\n",
        "    'Age': [25, 32, 18, 45]\n",
        "}\n",
        "\n",
        "df = pd.DataFrame(data)\n",
        "\n",
        "# Step 2: Add a new column based on the 'Age' column\n",
        "# Let's say we classify people as 'Adult' if age >= 18, otherwise 'Minor'\n",
        "df['Category'] = df['Age'].apply(lambda age: 'Adult' if age >= 18 else 'Minor')\n",
        "\n",
        "print(df)"
      ],
      "metadata": {
        "colab": {
          "base_uri": "https://localhost:8080/"
        },
        "id": "CCOR2E7p32gD",
        "outputId": "f5af6194-5629-4d16-b0aa-bebf9e13f148"
      },
      "execution_count": null,
      "outputs": [
        {
          "output_type": "stream",
          "name": "stdout",
          "text": [
            "      Name  Age Category\n",
            "0    Alice   25    Adult\n",
            "1      Bob   32    Adult\n",
            "2  Charlie   18    Adult\n",
            "3    David   45    Adult\n"
          ]
        }
      ]
    },
    {
      "cell_type": "code",
      "source": [
        "#7. Write a program to perform element-wise multiplication of two NumPy arrays.\n",
        "\n",
        "import numpy as np\n",
        "\n",
        "array1 = np.array([1, 2, 3, 4])\n",
        "array2 = np.array([10, 20, 30, 40])\n",
        "\n",
        "result = array1 * array2\n",
        "\n",
        "print(\"Array 1:\", array1)\n",
        "print(\"Array 2:\", array2)\n",
        "print(\"Element-wise multiplication:\", result)"
      ],
      "metadata": {
        "colab": {
          "base_uri": "https://localhost:8080/"
        },
        "id": "-WI1aaGG4Iwo",
        "outputId": "725f016f-f0e7-4526-b3dd-313a81472129"
      },
      "execution_count": null,
      "outputs": [
        {
          "output_type": "stream",
          "name": "stdout",
          "text": [
            "Array 1: [1 2 3 4]\n",
            "Array 2: [10 20 30 40]\n",
            "Element-wise multiplication: [ 10  40  90 160]\n"
          ]
        }
      ]
    },
    {
      "cell_type": "code",
      "source": [
        "#8. Create a line plot with multiple lines using Matplotlib?\n",
        "\n",
        "import matplotlib.pyplot as plt\n",
        "\n",
        "x = [1, 2, 3, 4, 5]\n",
        "y1 = [2, 3, 5, 7, 11]\n",
        "y2 = [1, 4, 6, 8, 9]\n",
        "y3 = [3, 5, 2, 6, 10]\n",
        "\n",
        "plt.plot(x, y1, label='Line 1', marker='o')\n",
        "plt.plot(x, y2, label='Line 2', marker='s')\n",
        "plt.plot(x, y3, label='Line 3', marker='^')\n",
        "\n",
        "plt.title('Multiple Line Plot Example')\n",
        "plt.xlabel('X-axis')\n",
        "plt.ylabel('Y-axis')\n",
        "\n",
        "plt.legend()\n",
        "\n",
        "plt.grid(True)\n",
        "plt.tight_layout()\n",
        "plt.show()"
      ],
      "metadata": {
        "colab": {
          "base_uri": "https://localhost:8080/",
          "height": 487
        },
        "id": "aPRgWiaf4j_l",
        "outputId": "e4747df5-8e15-4d5a-eec9-af9b8dce07d6"
      },
      "execution_count": null,
      "outputs": [
        {
          "output_type": "display_data",
          "data": {
            "text/plain": [
              "<Figure size 640x480 with 1 Axes>"
            ],
            "image/png": "[encoded data removed]"
          },
          "metadata": {}
        }
      ]
    },
    {
      "cell_type": "code",
      "source": [
        "#9. Generate a Pandas DataFrame and filter rows where a column value is greater than a threshold?\n",
        "\n",
        "import pandas as pd\n",
        "\n",
        "data = {\n",
        "    'Name': ['Alice', 'Bob', 'Charlie', 'David', 'Eve'],\n",
        "    'Score': [85, 42, 90, 67, 78]\n",
        "}\n",
        "df = pd.DataFrame(data)\n",
        "\n",
        "threshold = 70\n",
        "\n",
        "filtered_df = df[df['Score'] > threshold]\n",
        "\n",
        "print(filtered_df)"
      ],
      "metadata": {
        "colab": {
          "base_uri": "https://localhost:8080/"
        },
        "id": "R9pm2APk41OQ",
        "outputId": "4200840e-204e-4af7-c3e2-48be0b5d8cea"
      },
      "execution_count": null,
      "outputs": [
        {
          "output_type": "stream",
          "name": "stdout",
          "text": [
            "      Name  Score\n",
            "0    Alice     85\n",
            "2  Charlie     90\n",
            "4      Eve     78\n"
          ]
        }
      ]
    },
    {
      "cell_type": "code",
      "source": [
        "#10. Create a histogram using Seaborn to visualize a distribution.\n",
        "\n",
        "import seaborn as sns\n",
        "import matplotlib.pyplot as plt\n",
        "import numpy as np\n",
        "\n",
        "data = np.random.normal(loc=0, scale=1, size=1000)\n",
        "\n",
        "sns.histplot(data, bins=30, kde=True, color='skyblue')\n",
        "\n",
        "plt.title('Histogram of Normally Distributed Data')\n",
        "plt.xlabel('Value')\n",
        "plt.ylabel('Frequency')\n",
        "\n",
        "plt.show()"
      ],
      "metadata": {
        "colab": {
          "base_uri": "https://localhost:8080/",
          "height": 472
        },
        "id": "td0Pi4kc5Q9S",
        "outputId": "bdbb8f1f-c187-40be-9914-11e02b337c3b"
      },
      "execution_count": null,
      "outputs": [
        {
          "output_type": "display_data",
          "data": {
            "text/plain": [
              "<Figure size 640x480 with 1 Axes>"
            ],
            "image/png": "[encoded data removed]"
          },
          "metadata": {}
        }
      ]
    },
    {
      "cell_type": "code",
      "source": [
        "#11. Perform matrix multiplication using NumPy.\n",
        "\n",
        "import numpy as np\n",
        "\n",
        "A = np.array([[1, 2], [3, 4]])\n",
        "B = np.array([[5, 6], [7, 8]])\n",
        "\n",
        "C = A @ B\n",
        "\n",
        "D = np.matmul(A, B)\n",
        "\n",
        "print(\"Matrix A:\\n\", A)\n",
        "print(\"Matrix B:\\n\", B)\n",
        "print(\"Result of A @ B:\\n\", C)\n",
        "print(\"Result of np.matmul(A, B):\\n\", D)"
      ],
      "metadata": {
        "colab": {
          "base_uri": "https://localhost:8080/"
        },
        "id": "u8tqheQe5tRf",
        "outputId": "7fddc602-f81d-4474-a2e9-816cc49ca951"
      },
      "execution_count": null,
      "outputs": [
        {
          "output_type": "stream",
          "name": "stdout",
          "text": [
            "Matrix A:\n",
            " [[1 2]\n",
            " [3 4]]\n",
            "Matrix B:\n",
            " [[5 6]\n",
            " [7 8]]\n",
            "Result of A @ B:\n",
            " [[19 22]\n",
            " [43 50]]\n",
            "Result of np.matmul(A, B):\n",
            " [[19 22]\n",
            " [43 50]]\n"
          ]
        }
      ]
    },
    {
      "cell_type": "code",
      "source": [
        "#12. Use Pandas to load a CSV file and display its first 5 rows.\n",
        "\n",
        "import pandas as pd\n",
        "\n",
        "df = pd.read_csv('your_file.csv')\n",
        "\n",
        "print(df.head())"
      ],
      "metadata": {
        "id": "inrRVhxs5_GQ"
      },
      "execution_count": null,
      "outputs": []
    },
    {
      "cell_type": "code",
      "source": [
        "#13. Create a 3D scatter plot using Plotly.\n",
        "\n",
        "import plotly.express as px\n",
        "import pandas as pd\n",
        "import numpy as np\n",
        "\n",
        "np.random.seed(42)\n",
        "df = pd.DataFrame({\n",
        "    'x': np.random.rand(100),\n",
        "    'y': np.random.rand(100),\n",
        "    'z': np.random.rand(100),\n",
        "    'color': np.random.rand(100)\n",
        "})\n",
        "\n",
        "fig = px.scatter_3d(df, x='x', y='y', z='z', color='color',\n",
        "                    title='3D Scatter Plot Example')\n",
        "\n",
        "fig.show()"
      ],
      "metadata": {
        "colab": {
          "base_uri": "https://localhost:8080/",
          "height": 542
        },
        "id": "AcI4deOh6ZA5",
        "outputId": "a4fdba6f-b356-4e29-a9ab-7d110ebaf0b3"
      },
      "execution_count": null,
      "outputs": [
        {
          "output_type": "display_data",
          "data": {
            "text/html": [
              "<html>\n",
              "<head><meta charset=\"utf-8\" /></head>\n",
              "<body>\n",
              "    <div>            <script src=\"https://cdnjs.cloudflare.com/ajax/libs/mathjax/2.7.5/MathJax.js?config=TeX-AMS-MML_SVG\"></script><script type=\"text/javascript\">if (window.MathJax && window.MathJax.Hub && window.MathJax.Hub.Config) {window.MathJax.Hub.Config({SVG: {font: \"STIX-Web\"}});}</script>                <script type=\"text/javascript\">window.PlotlyConfig = {MathJaxConfig: 'local'};</script>\n",
              "        <script charset=\"utf-8\" src=\"https://cdn.plot.ly/plotly-2.35.2.min.js\"></script>                <div id=\"2230495a-15b7-4884-94de-fe5df7326c68\" class=\"plotly-graph-div\" style=\"height:525px; width:100%;\"></div>            <script type=\"text/javascript\">                                    window.PLOTLYENV=window.PLOTLYENV || {};                                    if (document.getElementById(\"2230495a-15b7-4884-94de-fe5df7326c68\")) {                    Plotly.newPlot(                        \"2230495a-15b7-4884-94de-fe5df7326c68\",                        [{\"hovertemplate\":\"x=%{x}\\u003cbr\\u003ey=%{y}\\u003cbr\\u003ez=%{z}\\u003cbr\\u003ecolor=%{marker.color}\\u003cextra\\u003e\\u003c\\u002fextra\\u003e\",\"legendgroup\":\"\",\"marker\":{\"color\":[0.0516817211686077,0.531354631568148,0.5406351216101065,0.6374299014982066,0.7260913337226615,0.9758520794625346,0.5163003483011953,0.32295647294124596,0.7951861947687037,0.2708322512620742,0.4389714207056361,0.07845638134226596,0.02535074341545751,0.9626484146779251,0.8359801205122058,0.695974206093698,0.4089529444142699,0.17329432007084578,0.15643704267108605,0.25024289816459533,0.5492266647061205,0.7145959227000623,0.6601973767177313,0.27993389694594284,0.9548652806631941,0.7378969166957685,0.5543540525114007,0.6117207462343522,0.4196000624277899,0.24773098950115746,0.3559726786512616,0.7578461104643691,0.014393488629755868,0.11607264050691624,0.04600264202175275,0.040728802318970136,0.8554605840110072,0.7036578593800237,0.4741738290873252,0.09783416065100148,0.49161587511683236,0.4734717707805657,0.17320186991001518,0.43385164923797304,0.39850473439737344,0.6158500980522165,0.6350936508676438,0.04530400977204452,0.3746126146264712,0.6258599157142364,0.5031362585800877,0.8564898411883223,0.658693631618945,0.1629344270814297,0.07056874740042984,0.6424192782063156,0.026511310541621813,0.5857755812734633,0.9402302414249576,0.575474177875879,0.3881699262065219,0.6432882184423532,0.45825289049151663,0.5456167893159349,0.9414648087765252,0.38610263780077425,0.9611905638239142,0.9053506419560637,0.19579113478929644,0.06936130087516545,0.10077800137742665,0.018221825651549728,0.0944429607559284,0.6830067734163568,0.07118864846022899,0.3189756302937613,0.8448753109694546,0.023271935735825866,0.8144684825889358,0.28185477477339993,0.11816482762165625,0.6967371653641506,0.628942846779884,0.877472013527053,0.7350710438038858,0.8034809303848486,0.2820345725713065,0.17743954377972282,0.7506147516408583,0.806834739267264,0.9905051420006733,0.4126176769114265,0.37201808579278317,0.7764129607419968,0.34080354025301784,0.9307573256035647,0.8584127518430118,0.42899402737501835,0.7508710677914974,0.7545428740846823],\"coloraxis\":\"coloraxis\",\"symbol\":\"circle\"},\"mode\":\"markers\",\"name\":\"\",\"scene\":\"scene\",\"showlegend\":false,\"x\":[0.3745401188473625,0.9507143064099162,0.7319939418114051,0.5986584841970366,0.15601864044243652,0.15599452033620265,0.05808361216819946,0.8661761457749352,0.6011150117432088,0.7080725777960455,0.020584494295802447,0.9699098521619943,0.8324426408004217,0.21233911067827616,0.18182496720710062,0.18340450985343382,0.3042422429595377,0.5247564316322378,0.43194501864211576,0.2912291401980419,0.6118528947223795,0.13949386065204183,0.29214464853521815,0.3663618432936917,0.45606998421703593,0.7851759613930136,0.19967378215835974,0.5142344384136116,0.5924145688620425,0.046450412719997725,0.6075448519014384,0.17052412368729153,0.06505159298527952,0.9488855372533332,0.9656320330745594,0.8083973481164611,0.3046137691733707,0.09767211400638387,0.6842330265121569,0.4401524937396013,0.12203823484477883,0.4951769101112702,0.034388521115218396,0.9093204020787821,0.2587799816000169,0.662522284353982,0.31171107608941095,0.5200680211778108,0.5467102793432796,0.18485445552552704,0.9695846277645586,0.7751328233611146,0.9394989415641891,0.8948273504276488,0.5978999788110851,0.9218742350231168,0.0884925020519195,0.1959828624191452,0.045227288910538066,0.32533033076326434,0.388677289689482,0.2713490317738959,0.8287375091519293,0.3567533266935893,0.28093450968738076,0.5426960831582485,0.14092422497476265,0.8021969807540397,0.07455064367977082,0.9868869366005173,0.7722447692966574,0.1987156815341724,0.005522117123602399,0.8154614284548342,0.7068573438476171,0.7290071680409873,0.7712703466859457,0.07404465173409036,0.3584657285442726,0.11586905952512971,0.8631034258755935,0.6232981268275579,0.3308980248526492,0.06355835028602363,0.3109823217156622,0.32518332202674705,0.7296061783380641,0.6375574713552131,0.8872127425763265,0.4722149251619493,0.1195942459383017,0.713244787222995,0.7607850486168974,0.5612771975694962,0.770967179954561,0.49379559636439074,0.5227328293819941,0.42754101835854963,0.02541912674409519,0.10789142699330445],\"y\":[0.03142918568673425,0.6364104112637804,0.3143559810763267,0.5085706911647028,0.907566473926093,0.24929222914887494,0.41038292303562973,0.7555511385430487,0.22879816549162246,0.07697990982879299,0.289751452913768,0.16122128725400442,0.9296976523425731,0.808120379564417,0.6334037565104235,0.8714605901877177,0.8036720768991145,0.18657005888603584,0.8925589984899778,0.5393422419156507,0.8074401551640625,0.8960912999234932,0.3180034749718639,0.11005192452767676,0.22793516254194168,0.4271077886262563,0.8180147659224931,0.8607305832563434,0.006952130531190703,0.5107473025775657,0.417411003148779,0.22210781047073025,0.1198653673336828,0.33761517140362796,0.9429097039125192,0.32320293202075523,0.5187906217433661,0.7030189588951778,0.363629602379294,0.9717820827209607,0.9624472949421112,0.25178229582536416,0.49724850589238545,0.30087830981676966,0.2848404943774676,0.036886947354532795,0.6095643339798968,0.5026790232288615,0.05147875124998935,0.27864646423661144,0.9082658859666537,0.23956189066697242,0.1448948720912231,0.489452760277563,0.9856504541106007,0.2420552715115004,0.6721355474058786,0.7616196153287176,0.23763754399239967,0.7282163486118596,0.3677831327192532,0.6323058305935795,0.6335297107608947,0.5357746840747585,0.0902897700544083,0.835302495589238,0.32078006497173583,0.18651851039985423,0.040775141554763916,0.5908929431882418,0.6775643618422824,0.016587828927856152,0.512093058299281,0.22649577519793795,0.6451727904094499,0.17436642900499144,0.690937738102466,0.3867353463005374,0.9367299887367345,0.13752094414599325,0.3410663510502585,0.11347352124058907,0.9246936182785628,0.877339353380981,0.2579416277151556,0.659984046034179,0.8172222002012158,0.5552008115994623,0.5296505783560065,0.24185229090045168,0.09310276780589921,0.8972157579533268,0.9004180571633305,0.6331014572732679,0.3390297910487007,0.3492095746126609,0.7259556788702394,0.8971102599525771,0.8870864242651173,0.7798755458576239],\"z\":[0.6420316461542878,0.08413996499504883,0.16162871409461377,0.8985541885270792,0.6064290596595899,0.009197051616629648,0.1014715428660321,0.6635017691080558,0.005061583846218687,0.16080805141749865,0.5487337893665861,0.6918951976926933,0.6519612595026005,0.22426930946055978,0.7121792213475359,0.23724908749680007,0.3253996981592677,0.7464914051180241,0.6496328990472147,0.8492234104941779,0.6576128923003434,0.5683086033354716,0.09367476782809248,0.3677158030594335,0.26520236768172545,0.24398964337908358,0.9730105547524456,0.3930977246667604,0.8920465551771133,0.6311386259972629,0.7948113035416484,0.5026370931051921,0.5769038846263591,0.4925176938188639,0.1952429877980445,0.7224521152615053,0.2807723624408558,0.02431596643145384,0.6454722959071678,0.17711067940704894,0.9404585843529143,0.9539285770025874,0.9148643902204485,0.3701587002554444,0.015456616528867428,0.9283185625877254,0.42818414831731433,0.9666548190436696,0.9636199770892528,0.8530094554673601,0.2944488920695857,0.38509772860192526,0.8511366715168569,0.31692200515627766,0.1694927466860925,0.5568012624583502,0.936154774160781,0.696029796674973,0.570061170089365,0.09717649377076854,0.6150072266991697,0.9900538501042633,0.14008401523652403,0.5183296523637367,0.8773730719279554,0.7407686177542044,0.697015740995268,0.7024840839871093,0.35949115121975517,0.29359184426449336,0.8093611554785136,0.8101133946791808,0.8670723185801037,0.9132405525564713,0.5113423988609378,0.5015162946871996,0.7982951789667752,0.6499639307777652,0.7019668772577033,0.795792669436101,0.8900053418175663,0.3379951568515358,0.375582952639944,0.093981939840869,0.578280140996174,0.035942273796742086,0.46559801813246016,0.5426446347075766,0.2865412521282844,0.5908332605690108,0.03050024993904943,0.03734818874921442,0.8226005606596583,0.3601906414112629,0.12706051265188478,0.5222432600548044,0.7699935530986108,0.21582102749684318,0.6228904758190003,0.085347464993768],\"type\":\"scatter3d\"}],                        {\"template\":{\"data\":{\"histogram2dcontour\":[{\"type\":\"histogram2dcontour\",\"colorbar\":{\"outlinewidth\":0,\"ticks\":\"\"},\"colorscale\":[[0.0,\"#0d0887\"],[0.1111111111111111,\"#46039f\"],[0.2222222222222222,\"#7201a8\"],[0.3333333333333333,\"#9c179e\"],[0.4444444444444444,\"#bd3786\"],[0.5555555555555556,\"#d8576b\"],[0.6666666666666666,\"#ed7953\"],[0.7777777777777778,\"#fb9f3a\"],[0.8888888888888888,\"#fdca26\"],[1.0,\"#f0f921\"]]}],\"choropleth\":[{\"type\":\"choropleth\",\"colorbar\":{\"outlinewidth\":0,\"ticks\":\"\"}}],\"histogram2d\":[{\"type\":\"histogram2d\",\"colorbar\":{\"outlinewidth\":0,\"ticks\":\"\"},\"colorscale\":[[0.0,\"#0d0887\"],[0.1111111111111111,\"#46039f\"],[0.2222222222222222,\"#7201a8\"],[0.3333333333333333,\"#9c179e\"],[0.4444444444444444,\"#bd3786\"],[0.5555555555555556,\"#d8576b\"],[0.6666666666666666,\"#ed7953\"],[0.7777777777777778,\"#fb9f3a\"],[0.8888888888888888,\"#fdca26\"],[1.0,\"#f0f921\"]]}],\"heatmap\":[{\"type\":\"heatmap\",\"colorbar\":{\"outlinewidth\":0,\"ticks\":\"\"},\"colorscale\":[[0.0,\"#0d0887\"],[0.1111111111111111,\"#46039f\"],[0.2222222222222222,\"#7201a8\"],[0.3333333333333333,\"#9c179e\"],[0.4444444444444444,\"#bd3786\"],[0.5555555555555556,\"#d8576b\"],[0.6666666666666666,\"#ed7953\"],[0.7777777777777778,\"#fb9f3a\"],[0.8888888888888888,\"#fdca26\"],[1.0,\"#f0f921\"]]}],\"heatmapgl\":[{\"type\":\"heatmapgl\",\"colorbar\":{\"outlinewidth\":0,\"ticks\":\"\"},\"colorscale\":[[0.0,\"#0d0887\"],[0.1111111111111111,\"#46039f\"],[0.2222222222222222,\"#7201a8\"],[0.3333333333333333,\"#9c179e\"],[0.4444444444444444,\"#bd3786\"],[0.5555555555555556,\"#d8576b\"],[0.6666666666666666,\"#ed7953\"],[0.7777777777777778,\"#fb9f3a\"],[0.8888888888888888,\"#fdca26\"],[1.0,\"#f0f921\"]]}],\"contourcarpet\":[{\"type\":\"contourcarpet\",\"colorbar\":{\"outlinewidth\":0,\"ticks\":\"\"}}],\"contour\":[{\"type\":\"contour\",\"colorbar\":{\"outlinewidth\":0,\"ticks\":\"\"},\"colorscale\":[[0.0,\"#0d0887\"],[0.1111111111111111,\"#46039f\"],[0.2222222222222222,\"#7201a8\"],[0.3333333333333333,\"#9c179e\"],[0.4444444444444444,\"#bd3786\"],[0.5555555555555556,\"#d8576b\"],[0.6666666666666666,\"#ed7953\"],[0.7777777777777778,\"#fb9f3a\"],[0.8888888888888888,\"#fdca26\"],[1.0,\"#f0f921\"]]}],\"surface\":[{\"type\":\"surface\",\"colorbar\":{\"outlinewidth\":0,\"ticks\":\"\"},\"colorscale\":[[0.0,\"#0d0887\"],[0.1111111111111111,\"#46039f\"],[0.2222222222222222,\"#7201a8\"],[0.3333333333333333,\"#9c179e\"],[0.4444444444444444,\"#bd3786\"],[0.5555555555555556,\"#d8576b\"],[0.6666666666666666,\"#ed7953\"],[0.7777777777777778,\"#fb9f3a\"],[0.8888888888888888,\"#fdca26\"],[1.0,\"#f0f921\"]]}],\"mesh3d\":[{\"type\":\"mesh3d\",\"colorbar\":{\"outlinewidth\":0,\"ticks\":\"\"}}],\"scatter\":[{\"fillpattern\":{\"fillmode\":\"overlay\",\"size\":10,\"solidity\":0.2},\"type\":\"scatter\"}],\"parcoords\":[{\"type\":\"parcoords\",\"line\":{\"colorbar\":{\"outlinewidth\":0,\"ticks\":\"\"}}}],\"scatterpolargl\":[{\"type\":\"scatterpolargl\",\"marker\":{\"colorbar\":{\"outlinewidth\":0,\"ticks\":\"\"}}}],\"bar\":[{\"error_x\":{\"color\":\"#2a3f5f\"},\"error_y\":{\"color\":\"#2a3f5f\"},\"marker\":{\"line\":{\"color\":\"#E5ECF6\",\"width\":0.5},\"pattern\":{\"fillmode\":\"overlay\",\"size\":10,\"solidity\":0.2}},\"type\":\"bar\"}],\"scattergeo\":[{\"type\":\"scattergeo\",\"marker\":{\"colorbar\":{\"outlinewidth\":0,\"ticks\":\"\"}}}],\"scatterpolar\":[{\"type\":\"scatterpolar\",\"marker\":{\"colorbar\":{\"outlinewidth\":0,\"ticks\":\"\"}}}],\"histogram\":[{\"marker\":{\"pattern\":{\"fillmode\":\"overlay\",\"size\":10,\"solidity\":0.2}},\"type\":\"histogram\"}],\"scattergl\":[{\"type\":\"scattergl\",\"marker\":{\"colorbar\":{\"outlinewidth\":0,\"ticks\":\"\"}}}],\"scatter3d\":[{\"type\":\"scatter3d\",\"line\":{\"colorbar\":{\"outlinewidth\":0,\"ticks\":\"\"}},\"marker\":{\"colorbar\":{\"outlinewidth\":0,\"ticks\":\"\"}}}],\"scattermapbox\":[{\"type\":\"scattermapbox\",\"marker\":{\"colorbar\":{\"outlinewidth\":0,\"ticks\":\"\"}}}],\"scatterternary\":[{\"type\":\"scatterternary\",\"marker\":{\"colorbar\":{\"outlinewidth\":0,\"ticks\":\"\"}}}],\"scattercarpet\":[{\"type\":\"scattercarpet\",\"marker\":{\"colorbar\":{\"outlinewidth\":0,\"ticks\":\"\"}}}],\"carpet\":[{\"aaxis\":{\"endlinecolor\":\"#2a3f5f\",\"gridcolor\":\"white\",\"linecolor\":\"white\",\"minorgridcolor\":\"white\",\"startlinecolor\":\"#2a3f5f\"},\"baxis\":{\"endlinecolor\":\"#2a3f5f\",\"gridcolor\":\"white\",\"linecolor\":\"white\",\"minorgridcolor\":\"white\",\"startlinecolor\":\"#2a3f5f\"},\"type\":\"carpet\"}],\"table\":[{\"cells\":{\"fill\":{\"color\":\"#EBF0F8\"},\"line\":{\"color\":\"white\"}},\"header\":{\"fill\":{\"color\":\"#C8D4E3\"},\"line\":{\"color\":\"white\"}},\"type\":\"table\"}],\"barpolar\":[{\"marker\":{\"line\":{\"color\":\"#E5ECF6\",\"width\":0.5},\"pattern\":{\"fillmode\":\"overlay\",\"size\":10,\"solidity\":0.2}},\"type\":\"barpolar\"}],\"pie\":[{\"automargin\":true,\"type\":\"pie\"}]},\"layout\":{\"autotypenumbers\":\"strict\",\"colorway\":[\"#636efa\",\"#EF553B\",\"#00cc96\",\"#ab63fa\",\"#FFA15A\",\"#19d3f3\",\"#FF6692\",\"#B6E880\",\"#FF97FF\",\"#FECB52\"],\"font\":{\"color\":\"#2a3f5f\"},\"hovermode\":\"closest\",\"hoverlabel\":{\"align\":\"left\"},\"paper_bgcolor\":\"white\",\"plot_bgcolor\":\"#E5ECF6\",\"polar\":{\"bgcolor\":\"#E5ECF6\",\"angularaxis\":{\"gridcolor\":\"white\",\"linecolor\":\"white\",\"ticks\":\"\"},\"radialaxis\":{\"gridcolor\":\"white\",\"linecolor\":\"white\",\"ticks\":\"\"}},\"ternary\":{\"bgcolor\":\"#E5ECF6\",\"aaxis\":{\"gridcolor\":\"white\",\"linecolor\":\"white\",\"ticks\":\"\"},\"baxis\":{\"gridcolor\":\"white\",\"linecolor\":\"white\",\"ticks\":\"\"},\"caxis\":{\"gridcolor\":\"white\",\"linecolor\":\"white\",\"ticks\":\"\"}},\"coloraxis\":{\"colorbar\":{\"outlinewidth\":0,\"ticks\":\"\"}},\"colorscale\":{\"sequential\":[[0.0,\"#0d0887\"],[0.1111111111111111,\"#46039f\"],[0.2222222222222222,\"#7201a8\"],[0.3333333333333333,\"#9c179e\"],[0.4444444444444444,\"#bd3786\"],[0.5555555555555556,\"#d8576b\"],[0.6666666666666666,\"#ed7953\"],[0.7777777777777778,\"#fb9f3a\"],[0.8888888888888888,\"#fdca26\"],[1.0,\"#f0f921\"]],\"sequentialminus\":[[0.0,\"#0d0887\"],[0.1111111111111111,\"#46039f\"],[0.2222222222222222,\"#7201a8\"],[0.3333333333333333,\"#9c179e\"],[0.4444444444444444,\"#bd3786\"],[0.5555555555555556,\"#d8576b\"],[0.6666666666666666,\"#ed7953\"],[0.7777777777777778,\"#fb9f3a\"],[0.8888888888888888,\"#fdca26\"],[1.0,\"#f0f921\"]],\"diverging\":[[0,\"#8e0152\"],[0.1,\"#c51b7d\"],[0.2,\"#de77ae\"],[0.3,\"#f1b6da\"],[0.4,\"#fde0ef\"],[0.5,\"#f7f7f7\"],[0.6,\"#e6f5d0\"],[0.7,\"#b8e186\"],[0.8,\"#7fbc41\"],[0.9,\"#4d9221\"],[1,\"#276419\"]]},\"xaxis\":{\"gridcolor\":\"white\",\"linecolor\":\"white\",\"ticks\":\"\",\"title\":{\"standoff\":15},\"zerolinecolor\":\"white\",\"automargin\":true,\"zerolinewidth\":2},\"yaxis\":{\"gridcolor\":\"white\",\"linecolor\":\"white\",\"ticks\":\"\",\"title\":{\"standoff\":15},\"zerolinecolor\":\"white\",\"automargin\":true,\"zerolinewidth\":2},\"scene\":{\"xaxis\":{\"backgroundcolor\":\"#E5ECF6\",\"gridcolor\":\"white\",\"linecolor\":\"white\",\"showbackground\":true,\"ticks\":\"\",\"zerolinecolor\":\"white\",\"gridwidth\":2},\"yaxis\":{\"backgroundcolor\":\"#E5ECF6\",\"gridcolor\":\"white\",\"linecolor\":\"white\",\"showbackground\":true,\"ticks\":\"\",\"zerolinecolor\":\"white\",\"gridwidth\":2},\"zaxis\":{\"backgroundcolor\":\"#E5ECF6\",\"gridcolor\":\"white\",\"linecolor\":\"white\",\"showbackground\":true,\"ticks\":\"\",\"zerolinecolor\":\"white\",\"gridwidth\":2}},\"shapedefaults\":{\"line\":{\"color\":\"#2a3f5f\"}},\"annotationdefaults\":{\"arrowcolor\":\"#2a3f5f\",\"arrowhead\":0,\"arrowwidth\":1},\"geo\":{\"bgcolor\":\"white\",\"landcolor\":\"#E5ECF6\",\"subunitcolor\":\"white\",\"showland\":true,\"showlakes\":true,\"lakecolor\":\"white\"},\"title\":{\"x\":0.05},\"mapbox\":{\"style\":\"light\"}}},\"scene\":{\"domain\":{\"x\":[0.0,1.0],\"y\":[0.0,1.0]},\"xaxis\":{\"title\":{\"text\":\"x\"}},\"yaxis\":{\"title\":{\"text\":\"y\"}},\"zaxis\":{\"title\":{\"text\":\"z\"}}},\"coloraxis\":{\"colorbar\":{\"title\":{\"text\":\"color\"}},\"colorscale\":[[0.0,\"#0d0887\"],[0.1111111111111111,\"#46039f\"],[0.2222222222222222,\"#7201a8\"],[0.3333333333333333,\"#9c179e\"],[0.4444444444444444,\"#bd3786\"],[0.5555555555555556,\"#d8576b\"],[0.6666666666666666,\"#ed7953\"],[0.7777777777777778,\"#fb9f3a\"],[0.8888888888888888,\"#fdca26\"],[1.0,\"#f0f921\"]]},\"legend\":{\"tracegroupgap\":0},\"title\":{\"text\":\"3D Scatter Plot Example\"}},                        {\"responsive\": true}                    ).then(function(){\n",
              "                            \n",
              "var gd = document.getElementById('2230495a-15b7-4884-94de-fe5df7326c68');\n",
              "var x = new MutationObserver(function (mutations, observer) {{\n",
              "        var display = window.getComputedStyle(gd).display;\n",
              "        if (!display || display === 'none') {{\n",
              "            console.log([gd, 'removed!']);\n",
              "            Plotly.purge(gd);\n",
              "            observer.disconnect();\n",
              "        }}\n",
              "}});\n",
              "\n",
              "// Listen for the removal of the full notebook cells\n",
              "var notebookContainer = gd.closest('#notebook-container');\n",
              "if (notebookContainer) {{\n",
              "    x.observe(notebookContainer, {childList: true});\n",
              "}}\n",
              "\n",
              "// Listen for the clearing of the current output cell\n",
              "var outputEl = gd.closest('.output');\n",
              "if (outputEl) {{\n",
              "    x.observe(outputEl, {childList: true});\n",
              "}}\n",
              "\n",
              "                        })                };                            </script>        </div>\n",
              "</body>\n",
              "</html>"
            ]
          },
          "metadata": {}
        }
      ]
    }
  ]
}